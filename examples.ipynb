{
  "nbformat": 4,
  "nbformat_minor": 0,
  "metadata": {
    "colab": {
      "name": "examples.ipynb",
      "provenance": [],
      "collapsed_sections": [],
      "authorship_tag": "ABX9TyO8GSesqtQ8Yx9EyepfnXhW",
      "include_colab_link": true
    },
    "kernelspec": {
      "name": "python3",
      "display_name": "Python 3"
    },
    "language_info": {
      "name": "python"
    }
  },
  "cells": [
    {
      "cell_type": "markdown",
      "metadata": {
        "id": "view-in-github",
        "colab_type": "text"
      },
      "source": [
        "<a href=\"https://colab.research.google.com/github/Deepa-Mohan/Deepa-Mohan/blob/main/examples.ipynb\" target=\"_parent\"><img src=\"https://colab.research.google.com/assets/colab-badge.svg\" alt=\"Open In Colab\"/></a>"
      ]
    },
    {
      "cell_type": "markdown",
      "source": [
        "**Armstrong number**"
      ],
      "metadata": {
        "id": "orxs67u-bBgz"
      }
    },
    {
      "cell_type": "code",
      "execution_count": null,
      "metadata": {
        "colab": {
          "base_uri": "https://localhost:8080/"
        },
        "id": "TDjI7mcsZrUd",
        "outputId": "47f81dd1-ce50-4827-f392-0b9f3e437f93"
      },
      "outputs": [
        {
          "output_type": "stream",
          "name": "stdout",
          "text": [
            "153\n",
            "True\n"
          ]
        }
      ],
      "source": [
        "n=int(input())\n",
        "n1 = []\n",
        "a = n//100\n",
        "n1.append(a)\n",
        "a1 = n%100 \n",
        "b = a1//10\n",
        "n1.append(b)\n",
        "c = n%10\n",
        "n1.append(c)\n",
        "#print(n1)\n",
        "if a**3+b**3+c**3 == n:\n",
        "    print(\"True\")\n",
        "else:\n",
        "    print(\"False\")"
      ]
    },
    {
      "cell_type": "markdown",
      "source": [
        "**Fibonacci Series**"
      ],
      "metadata": {
        "id": "xoJmVCDubNhn"
      }
    },
    {
      "cell_type": "code",
      "source": [
        "n=int(input())\n",
        "#write your code here\n",
        "n1 = 0\n",
        "n2 = 1\n",
        "count = 0\n",
        "if n<=0:\n",
        "    print(\"Enter positive integer\")\n",
        "elif n==1:\n",
        "    print(0)\n",
        "else:\n",
        "    while (count<n):\n",
        "        print(n1)\n",
        "        n3 = n1+n2\n",
        "        n1 = n2\n",
        "        n2 = n3\n",
        "        count +=1"
      ],
      "metadata": {
        "colab": {
          "base_uri": "https://localhost:8080/"
        },
        "id": "WuAfkHJbaPbE",
        "outputId": "c264b076-5a04-49a3-a26b-b902c5cc5915"
      },
      "execution_count": null,
      "outputs": [
        {
          "output_type": "stream",
          "name": "stdout",
          "text": [
            "7\n",
            "0\n",
            "1\n",
            "1\n",
            "2\n",
            "3\n",
            "5\n",
            "8\n"
          ]
        }
      ]
    },
    {
      "cell_type": "markdown",
      "source": [
        "**Pascal's Triangle**"
      ],
      "metadata": {
        "id": "weGUP1LhbzAs"
      }
    },
    {
      "cell_type": "code",
      "source": [
        "n=int(input())\n",
        "c = n-1\n",
        "def factorial(num):\n",
        "    fact = 1\n",
        "    if num == 0 or num == 1:\n",
        "        return 1\n",
        "    else:\n",
        "        for i in range(1,num+1):\n",
        "            fact=fact*i\n",
        "        return fact\n",
        "answer = []\n",
        "for i in range(0,c+1):\n",
        "    o= factorial(i)\n",
        "    p= factorial(c-i)\n",
        "    q= factorial(c)\n",
        "    a = o*p\n",
        "    b = q//a\n",
        "    answer.append(b)\n",
        "print(answer)"
      ],
      "metadata": {
        "colab": {
          "base_uri": "https://localhost:8080/"
        },
        "id": "8mz9_NbmdBGd",
        "outputId": "86ae0eeb-4cea-4d18-8769-7d0a89f77d8b"
      },
      "execution_count": null,
      "outputs": [
        {
          "output_type": "stream",
          "name": "stdout",
          "text": [
            "8\n",
            "[1, 7, 21, 35, 35, 21, 7, 1]\n"
          ]
        }
      ]
    }
  ]
}